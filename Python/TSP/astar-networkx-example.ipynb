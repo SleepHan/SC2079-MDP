{
 "cells": [
  {
   "cell_type": "code",
   "execution_count": 2,
   "metadata": {},
   "outputs": [],
   "source": [
    "import numpy as np\n",
    "import scipy as sc\n",
    "import networkx as nx"
   ]
  },
  {
   "cell_type": "code",
   "execution_count": 3,
   "metadata": {},
   "outputs": [],
   "source": [
    "NUM_DCM = 200\n",
    "TURN_RAD = 26\n",
    "TURN_WEIGHT = np.pi / 2 * TURN_RAD"
   ]
  },
  {
   "cell_type": "code",
   "execution_count": 4,
   "metadata": {},
   "outputs": [],
   "source": [
    "G = nx.DiGraph()"
   ]
  },
  {
   "cell_type": "code",
   "execution_count": 5,
   "metadata": {},
   "outputs": [],
   "source": [
    "for x, y in np.stack(np.meshgrid(np.arange(NUM_DCM), np.arange(NUM_DCM))).reshape((2, -1)).T:\n",
    "    north_node = (x, y, 'N')\n",
    "\n",
    "    front_friend = (x, y+1, 'N')\n",
    "    reverse_friend = (x, y-1, 'N')\n",
    "    left_friend = (x-TURN_RAD, y+TURN_RAD, 'W')\n",
    "    right_friend = (x+TURN_RAD, y+TURN_RAD, 'E')\n",
    "\n",
    "    friend_nodes = [front_friend, reverse_friend, left_friend, right_friend]\n",
    "    friend_nodes = [i for i in friend_nodes if i[0] > 0 and i[0] < NUM_DCM and i[1] > 0 and i[1] < NUM_DCM]\n",
    "\n",
    "    G.add_node(north_node)\n",
    "    G.add_nodes_from(friend_nodes)\n",
    "    G.add_edges_from([(north_node, i, dict(weight=1 if i[2] == north_node[2] else TURN_WEIGHT,\n",
    "                                           ))\n",
    "                        for i in friend_nodes])\n",
    "\n",
    "    east_node = (x, y, 'E')\n",
    "\n",
    "    front_friend = (x+1, y, 'E')\n",
    "    reverse_friend = (x-1, y, 'E')\n",
    "    left_friend = (x+TURN_RAD, y+TURN_RAD, 'N')\n",
    "    right_friend = (x+TURN_RAD, y-TURN_RAD, 'S')\n",
    "\n",
    "    friend_nodes = [front_friend, reverse_friend, left_friend, right_friend]\n",
    "    friend_nodes = [i for i in friend_nodes if i[0] > 0 and i[0] < NUM_DCM and i[1] > 0 and i[1] < NUM_DCM]\n",
    "\n",
    "    G.add_node(east_node)\n",
    "    G.add_nodes_from(friend_nodes)\n",
    "    G.add_edges_from([(east_node, i, dict(weight=1 if i[2] == east_node[2] else TURN_RAD)) for i in friend_nodes])\n",
    "\n",
    "    south_node = (x, y, 'S')\n",
    "\n",
    "    front_friend = (x, y-1, 'S')\n",
    "    reverse_friend = (x, y+1, 'S')\n",
    "    left_friend = (x+TURN_RAD, y-TURN_RAD, 'E')\n",
    "    right_friend = (x-TURN_RAD, y-TURN_RAD, 'W')\n",
    "\n",
    "    friend_nodes = [front_friend, reverse_friend, left_friend, right_friend]\n",
    "    friend_nodes = [i for i in friend_nodes if i[0] > 0 and i[0] < NUM_DCM and i[1] > 0 and i[1] < NUM_DCM]\n",
    "\n",
    "    G.add_node(south_node)\n",
    "    G.add_nodes_from(friend_nodes)\n",
    "    G.add_edges_from([(south_node, i, dict(weight=1 if i[2] == south_node[2] else TURN_RAD)) for i in friend_nodes])\n",
    "\n",
    "    west_node = (x, y, 'W')\n",
    "\n",
    "    front_friend = (x-1, y, 'W')\n",
    "    reverse_friend = (x+1, y, 'W')\n",
    "    left_friend = (x-TURN_RAD, y-TURN_RAD, 'S')\n",
    "    right_friend = (x-TURN_RAD, y+TURN_RAD, 'N')\n",
    "\n",
    "    friend_nodes = [front_friend, reverse_friend, left_friend, right_friend]\n",
    "    friend_nodes = [i for i in friend_nodes if i[0] > 0 and i[0] < NUM_DCM and i[1] > 0 and i[1] < NUM_DCM]\n",
    "\n",
    "    G.add_node(west_node)\n",
    "    G.add_nodes_from(friend_nodes)\n",
    "    G.add_edges_from([(west_node, i, dict(weight=1 if i[2] == west_node[2] else TURN_RAD)) for i in friend_nodes])\n"
   ]
  },
  {
   "cell_type": "code",
   "execution_count": 6,
   "metadata": {},
   "outputs": [],
   "source": [
    "obstacle_positions = [(1, 14), (5, 12), (8, 5), (11, 14), (15, 2), (16, 19), (19, 9)]\n",
    "obstacle_positions = [(x*10, y*10) for x, y in obstacle_positions]"
   ]
  },
  {
   "cell_type": "code",
   "execution_count": 7,
   "metadata": {},
   "outputs": [],
   "source": [
    "remlist = []\n",
    "for node in G.nodes:\n",
    "    x, y, facing = node\n",
    "    for ob_x, ob_y in obstacle_positions:\n",
    "        if (x >= ob_x - 10 and x <= ob_x + 10) and (y >= ob_y - 10 and y <= ob_y + 10):\n",
    "            remlist.append(node)\n",
    "        if x < 10 or y < 10 or x >= 190 or y >= 190:\n",
    "            remlist.append(node)\n",
    "G.remove_nodes_from(remlist)"
   ]
  },
  {
   "cell_type": "code",
   "execution_count": 8,
   "metadata": {},
   "outputs": [],
   "source": [
    "astar_path = nx.astar_path(G, (10, 10, 'N'), (10, 10, 'E'))\n"
   ]
  },
  {
   "cell_type": "code",
   "execution_count": 9,
   "metadata": {},
   "outputs": [
    {
     "name": "stdout",
     "output_type": "stream",
     "text": [
      "[(10, 10, 'N'), (10, 11, 'N'), (10, 12, 'N'), (10, 13, 'N'), (10, 14, 'N'), (10, 15, 'N'), (10, 16, 'N'), (10, 17, 'N'), (10, 18, 'N'), (10, 19, 'N'), (10, 20, 'N'), (10, 21, 'N'), (10, 22, 'N'), (10, 23, 'N'), (10, 24, 'N'), (10, 25, 'N'), (10, 26, 'N'), (10, 27, 'N'), (10, 28, 'N'), (10, 29, 'N'), (10, 30, 'N'), (10, 31, 'N'), (10, 32, 'N'), (10, 33, 'N'), (10, 34, 'N'), (10, 35, 'N'), (10, 36, 'N'), (36, 62, 'E'), (35, 62, 'E'), (34, 62, 'E'), (33, 62, 'E'), (32, 62, 'E'), (31, 62, 'E'), (30, 62, 'E'), (29, 62, 'E'), (28, 62, 'E'), (27, 62, 'E'), (26, 62, 'E'), (25, 62, 'E'), (24, 62, 'E'), (23, 62, 'E'), (22, 62, 'E'), (21, 62, 'E'), (20, 62, 'E'), (19, 62, 'E'), (18, 62, 'E'), (17, 62, 'E'), (16, 62, 'E'), (15, 62, 'E'), (14, 62, 'E'), (13, 62, 'E'), (12, 62, 'E'), (11, 62, 'E'), (10, 62, 'E'), (36, 36, 'S'), (62, 10, 'E'), (61, 10, 'E'), (60, 10, 'E'), (59, 10, 'E'), (58, 10, 'E'), (57, 10, 'E'), (56, 10, 'E'), (55, 10, 'E'), (54, 10, 'E'), (53, 10, 'E'), (52, 10, 'E'), (51, 10, 'E'), (50, 10, 'E'), (49, 10, 'E'), (48, 10, 'E'), (47, 10, 'E'), (46, 10, 'E'), (45, 10, 'E'), (44, 10, 'E'), (43, 10, 'E'), (42, 10, 'E'), (41, 10, 'E'), (40, 10, 'E'), (39, 10, 'E'), (38, 10, 'E'), (37, 10, 'E'), (36, 10, 'E'), (35, 10, 'E'), (34, 10, 'E'), (33, 10, 'E'), (32, 10, 'E'), (31, 10, 'E'), (30, 10, 'E'), (29, 10, 'E'), (28, 10, 'E'), (27, 10, 'E'), (26, 10, 'E'), (25, 10, 'E'), (24, 10, 'E'), (23, 10, 'E'), (22, 10, 'E'), (21, 10, 'E'), (20, 10, 'E'), (19, 10, 'E'), (18, 10, 'E'), (17, 10, 'E'), (16, 10, 'E'), (15, 10, 'E'), (14, 10, 'E'), (13, 10, 'E'), (12, 10, 'E'), (11, 10, 'E'), (10, 10, 'E')]\n"
     ]
    }
   ],
   "source": [
    "print(astar_path)"
   ]
  },
  {
   "cell_type": "code",
   "execution_count": 10,
   "metadata": {},
   "outputs": [
    {
     "data": {
      "text/plain": [
       "{'weight': 1}"
      ]
     },
     "execution_count": 10,
     "metadata": {},
     "output_type": "execute_result"
    }
   ],
   "source": [
    "G.get_edge_data((10, 10, 'N'), (10, 11, 'N'))"
   ]
  }
 ],
 "metadata": {
  "kernelspec": {
   "display_name": "default-nb",
   "language": "python",
   "name": "python3"
  },
  "language_info": {
   "codemirror_mode": {
    "name": "ipython",
    "version": 3
   },
   "file_extension": ".py",
   "mimetype": "text/x-python",
   "name": "python",
   "nbconvert_exporter": "python",
   "pygments_lexer": "ipython3",
   "version": "3.9.13"
  }
 },
 "nbformat": 4,
 "nbformat_minor": 2
}
